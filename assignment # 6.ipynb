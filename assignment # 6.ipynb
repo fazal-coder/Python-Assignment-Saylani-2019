{
 "cells": [
  {
   "cell_type": "code",
   "execution_count": null,
   "metadata": {},
   "outputs": [],
   "source": [
    "# Question 1:\n",
    "# Define Object Oriented Programming Language?\n",
    "Object-oriented programming in which programmers define the data type of a data structure"
   ]
  },
  {
   "cell_type": "code",
   "execution_count": null,
   "metadata": {},
   "outputs": [],
   "source": [
    "# Question 2:\n",
    "# List down the Benefits of OOP?\n",
    "1. through OOP we easy to understand code\n",
    "2.In OOP,we not only define data types but we also deals with operations applied for data structures.\n",
    "3.OOP makes are code readable and our code is reuseable"
   ]
  },
  {
   "cell_type": "code",
   "execution_count": null,
   "metadata": {},
   "outputs": [],
   "source": [
    "# Question 3:\n",
    "# Differentiate between function and method?\n",
    "\n",
    "A function is a piece of code usually written in the scope of global code or in a function itself(nested functions).\n",
    "We have to call a function by it's name explicitly and if needed we have to pass the parameters too.\n",
    "On the other hand, A method is defined inside an object's or class's definition. We can accesss this object by the name\n",
    "of the class or the object and we don't have to pass parameters explicitly."
   ]
  },
  {
   "cell_type": "code",
   "execution_count": null,
   "metadata": {},
   "outputs": [],
   "source": [
    "# question 4\n",
    "#define the following terms:\n",
    "\n",
    "#class\n",
    "A user-defined prototype for an object that defines a set of attributes.\n",
    "The attributes are data members (class variables and instance variables) and methods, accessed via dot notation.\n",
    "#object\n",
    "A unique instance of a data structure that's defined by its class. "
   ]
  },
  {
   "cell_type": "code",
   "execution_count": 1,
   "metadata": {},
   "outputs": [
    {
     "name": "stdout",
     "output_type": "stream",
     "text": [
      "Audi. Audi A5 2011 White 2\n",
      "Ford is stopped.\n",
      "Bentley. is started.\n"
     ]
    }
   ],
   "source": [
    "# Question 5:\n",
    "# Write a code in python in which create a class named it Car which have 5 attributes such like (model, color and name etc.) and 3\n",
    "# methods. And create 5 object instance from that class.\n",
    "\n",
    "\n",
    "class Car:\n",
    "    def __init__(self, name, brand, model, color, doors):\n",
    "        self.name = name\n",
    "        self.brand = brand\n",
    "        self.model = model\n",
    "        self.color =  color\n",
    "        self.doors = doors\n",
    "    def printCar(self):\n",
    "        print(self.name,self.brand, self.model, self.color, self.doors)\n",
    "    def drive(self):\n",
    "        print(self.name, \"is started.\")\n",
    "    def stop(self):\n",
    "        print(self.name, \"is stopped.\")\n",
    "car1 = Car(\"BMW\", \"BMW 530\", \"2019\", \"purple\", 2)\n",
    "car2 = Car(\"Audi.\", \"Audi A5\", \"2011\", \"White\", 2)\n",
    "car3 = Car(\"Bentley.\", \"Mulsanne\", \"2017\", \"Red\", 4)\n",
    "car4 = Car(\"nissian\", \"Nissian 350z\", \"2006\", \"Yellow\", 4)\n",
    "car5 = Car(\"Ford\", \"ecosprot\", \"2019\", \"Gray\", 2)\n",
    "car2.printCar()\n",
    "car5.stop()\n",
    "car3.drive()"
   ]
  }
 ],
 "metadata": {
  "kernelspec": {
   "display_name": "Python 3",
   "language": "python",
   "name": "python3"
  },
  "language_info": {
   "codemirror_mode": {
    "name": "ipython",
    "version": 3
   },
   "file_extension": ".py",
   "mimetype": "text/x-python",
   "name": "python",
   "nbconvert_exporter": "python",
   "pygments_lexer": "ipython3",
   "version": "3.7.4"
  }
 },
 "nbformat": 4,
 "nbformat_minor": 2
}
