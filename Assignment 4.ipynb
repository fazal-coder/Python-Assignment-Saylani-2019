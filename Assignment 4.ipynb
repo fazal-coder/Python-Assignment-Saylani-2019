{
 "cells": [
  {
   "cell_type": "code",
   "execution_count": 1,
   "metadata": {},
   "outputs": [
    {
     "name": "stdout",
     "output_type": "stream",
     "text": [
      "first_name : Fazal\n",
      "last_name : Diyan\n",
      "city : Larakana\n",
      "age : 20\n"
     ]
    }
   ],
   "source": [
    "# Question1:\n",
    "# Use a dictionary to store information about a person you know. Store their first name,\n",
    "# last name, age, and the city in which they live. You should have keys such as first_name, \n",
    "# last_name, age, and city. Print each piece of information stored in your dictionary. \n",
    "# Add a new key value pair about qualification then update the qualification value to high \n",
    "# academic level then delete it.\n",
    "person_info = {\"first_name\": \"Fazal\", \"last_name\": \"Diyan\", \"city\": \"Larakana\", \"age\": 20}\n",
    "person_info[\"qualification\"] = \"matric\"\n",
    "person_info[\"qualification\"] = \"intermediate\"\n",
    "person_info.pop(\"qualification\")\n",
    "for key, value in person_info.items():\n",
    "    print(key,\":\", value)"
   ]
  },
  {
   "cell_type": "code",
   "execution_count": 2,
   "metadata": {},
   "outputs": [
    {
     "name": "stdout",
     "output_type": "stream",
     "text": [
      "milan {'countery': 'Italy', 'population': '60M', 'face': 'Famous for fashion'}\n",
      "Paris {'countery': 'France', 'population': '66M', 'face': 'Effel tower'}\n",
      "shanghai {'countery': 'China', 'population': '1.3B', 'face': 'exporter'}\n"
     ]
    }
   ],
   "source": [
    "# Question2:\n",
    "# Make a dictionary called cities. Use the names of three cities as keys in your dictionary. \n",
    "# Create a dictionary of information about each city and include the country that the city is in, \n",
    "# its approximate population, and one fact about that city. The keys for each city’s dictionary should be \n",
    "# something like country, population, and fact. Print the name of each city and all of the information you \n",
    "# have stored about it.\n",
    "cities = {\n",
    "    \"milan\":{\n",
    "        \"countery\": \"Italy\",\n",
    "        \"population\": \"60M\",\n",
    "        \"face\":\"Famous for fashion\",\n",
    "    },\n",
    "    \"Paris\":{\n",
    "        \"countery\": \"France\",\n",
    "        \"population\": \"66M\",\n",
    "        \"face\": \"Effel tower\",\n",
    "    },\n",
    "    \"shanghai\":{\n",
    "        \"countery\": \"China\",\n",
    "        \"population\": \"1.3B\",\n",
    "        \"face\": \"exporter\",\n",
    "    },\n",
    "}\n",
    "for key, value in cities.items():\n",
    "    print(key, value)"
   ]
  },
  {
   "cell_type": "code",
   "execution_count": 3,
   "metadata": {},
   "outputs": [
    {
     "name": "stdout",
     "output_type": "stream",
     "text": [
      "Enter your age: 1\n",
      "The ticket for you is free.\n",
      "Enter your age: 8\n",
      "The tick for you us $10.\n",
      "Enter your age: 15\n",
      "The ticket for you is $15.\n"
     ]
    }
   ],
   "source": [
    "# Question3:\n",
    "# A movie theater charges different ticket prices depending on a person’s age. If a person is under the age of 3, \n",
    "# the ticket is free; if they are between 3 and 12, the ticket is $10; and if they are over age 12, the ticket is \n",
    "# $15. Write a loop in which you ask users their age, and then tell them the cost of their movie ticket.\n",
    "for i in range(1,4):\n",
    "    age = int(input(\"Enter your age: \"))\n",
    "    if age>0 and age<3:\n",
    "        print(\"The ticket for you is free.\")\n",
    "    elif age>3 and age<13:\n",
    "        print(\"The tick for you us $10.\")\n",
    "    else:\n",
    "        print(\"The ticket for you is $15.\")"
   ]
  },
  {
   "cell_type": "code",
   "execution_count": 4,
   "metadata": {},
   "outputs": [
    {
     "name": "stdout",
     "output_type": "stream",
     "text": [
      "One of my favorite books is rich dad poor dad\n"
     ]
    }
   ],
   "source": [
    "# Question4:\n",
    "# Write a function called favorite_book() that accepts one parameter, title. The function should print a message, \n",
    "# such as One of my favorite books is Alice in Wonderland. Call the function, making sure to include a book title \n",
    "# as an argument in the function call.\n",
    "def favorite_book(title):\n",
    "    print(\"One of my favorite books is\", title)\n",
    "favorite_book(\"rich dad poor dad\")"
   ]
  },
  {
   "cell_type": "code",
   "execution_count": 5,
   "metadata": {},
   "outputs": [
    {
     "name": "stdout",
     "output_type": "stream",
     "text": [
      "Enter your guess(1-30): 8\n",
      "You guessed to low\n",
      "Enter your guess(1-30): 15\n",
      "You guessed too high.\n",
      "Enter your guess(1-30): 28\n",
      "You guessed too high.\n"
     ]
    }
   ],
   "source": [
    "# Question5:\n",
    "# Guess the number game\n",
    "# Write a program which randomly generate a number between 1 to 30 and ask the user in input field to guess the \n",
    "# correct number. Give three chances to user guess the number and also give hint to user if hidden number is \n",
    "# greater or smaller than the number he given to input field.\n",
    "from random import randint\n",
    "random_number = randint(1,31)\n",
    "for i in range(1,4):\n",
    "    guess = int(input(\"Enter your guess(1-30): \"))\n",
    "    if guess > random_number:\n",
    "        print(\"You guessed too high.\")\n",
    "    elif guess < random_number:\n",
    "        print(\"You guessed to low\")\n",
    "    elif guess == random_number:\n",
    "        print(\"You won!\")\n",
    "        break\n",
    "    else:\n",
    "        pass"
   ]
  },
  {
   "cell_type": "code",
   "execution_count": null,
   "metadata": {},
   "outputs": [],
   "source": []
  }
 ],
 "metadata": {
  "kernelspec": {
   "display_name": "Python 3",
   "language": "python",
   "name": "python3"
  },
  "language_info": {
   "codemirror_mode": {
    "name": "ipython",
    "version": 3
   },
   "file_extension": ".py",
   "mimetype": "text/x-python",
   "name": "python",
   "nbconvert_exporter": "python",
   "pygments_lexer": "ipython3",
   "version": "3.7.4"
  }
 },
 "nbformat": 4,
 "nbformat_minor": 2
}
